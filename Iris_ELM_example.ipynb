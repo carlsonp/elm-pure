{
 "cells": [
  {
   "cell_type": "code",
   "execution_count": 92,
   "id": "4731567b",
   "metadata": {},
   "outputs": [],
   "source": [
    "from sklearn import datasets\n",
    "from keras.utils import to_categorical\n",
    "from matplotlib import pyplot as plt\n",
    "import random\n",
    "from model import ELM\n",
    "import numpy as np\n",
    "from sklearn.model_selection import train_test_split"
   ]
  },
  {
   "cell_type": "code",
   "execution_count": 93,
   "id": "ed4fbb08",
   "metadata": {},
   "outputs": [],
   "source": [
    "# set this to enforce a seed for randomness for reproducibility\n",
    "np.random.seed(0)"
   ]
  },
  {
   "cell_type": "code",
   "execution_count": 94,
   "id": "0c6726ba",
   "metadata": {},
   "outputs": [],
   "source": [
    "# Network Settings\n",
    "num_classes = 3\n",
    "num_hidden_layers = 512\n",
    "input_length = 4"
   ]
  },
  {
   "cell_type": "code",
   "execution_count": 95,
   "id": "46607014",
   "metadata": {},
   "outputs": [],
   "source": [
    "iris = datasets.load_iris()\n",
    "x = iris.data\n",
    "y = iris.target"
   ]
  },
  {
   "cell_type": "code",
   "execution_count": 96,
   "id": "3dadfec5",
   "metadata": {},
   "outputs": [
    {
     "data": {
      "text/plain": [
       "array([[5.1, 3.5, 1.4, 0.2],\n",
       "       [4.9, 3. , 1.4, 0.2],\n",
       "       [4.7, 3.2, 1.3, 0.2],\n",
       "       [4.6, 3.1, 1.5, 0.2],\n",
       "       [5. , 3.6, 1.4, 0.2],\n",
       "       [5.4, 3.9, 1.7, 0.4],\n",
       "       [4.6, 3.4, 1.4, 0.3],\n",
       "       [5. , 3.4, 1.5, 0.2],\n",
       "       [4.4, 2.9, 1.4, 0.2],\n",
       "       [4.9, 3.1, 1.5, 0.1],\n",
       "       [5.4, 3.7, 1.5, 0.2],\n",
       "       [4.8, 3.4, 1.6, 0.2],\n",
       "       [4.8, 3. , 1.4, 0.1],\n",
       "       [4.3, 3. , 1.1, 0.1],\n",
       "       [5.8, 4. , 1.2, 0.2],\n",
       "       [5.7, 4.4, 1.5, 0.4],\n",
       "       [5.4, 3.9, 1.3, 0.4],\n",
       "       [5.1, 3.5, 1.4, 0.3],\n",
       "       [5.7, 3.8, 1.7, 0.3],\n",
       "       [5.1, 3.8, 1.5, 0.3],\n",
       "       [5.4, 3.4, 1.7, 0.2],\n",
       "       [5.1, 3.7, 1.5, 0.4],\n",
       "       [4.6, 3.6, 1. , 0.2],\n",
       "       [5.1, 3.3, 1.7, 0.5],\n",
       "       [4.8, 3.4, 1.9, 0.2],\n",
       "       [5. , 3. , 1.6, 0.2],\n",
       "       [5. , 3.4, 1.6, 0.4],\n",
       "       [5.2, 3.5, 1.5, 0.2],\n",
       "       [5.2, 3.4, 1.4, 0.2],\n",
       "       [4.7, 3.2, 1.6, 0.2],\n",
       "       [4.8, 3.1, 1.6, 0.2],\n",
       "       [5.4, 3.4, 1.5, 0.4],\n",
       "       [5.2, 4.1, 1.5, 0.1],\n",
       "       [5.5, 4.2, 1.4, 0.2],\n",
       "       [4.9, 3.1, 1.5, 0.2],\n",
       "       [5. , 3.2, 1.2, 0.2],\n",
       "       [5.5, 3.5, 1.3, 0.2],\n",
       "       [4.9, 3.6, 1.4, 0.1],\n",
       "       [4.4, 3. , 1.3, 0.2],\n",
       "       [5.1, 3.4, 1.5, 0.2],\n",
       "       [5. , 3.5, 1.3, 0.3],\n",
       "       [4.5, 2.3, 1.3, 0.3],\n",
       "       [4.4, 3.2, 1.3, 0.2],\n",
       "       [5. , 3.5, 1.6, 0.6],\n",
       "       [5.1, 3.8, 1.9, 0.4],\n",
       "       [4.8, 3. , 1.4, 0.3],\n",
       "       [5.1, 3.8, 1.6, 0.2],\n",
       "       [4.6, 3.2, 1.4, 0.2],\n",
       "       [5.3, 3.7, 1.5, 0.2],\n",
       "       [5. , 3.3, 1.4, 0.2],\n",
       "       [7. , 3.2, 4.7, 1.4],\n",
       "       [6.4, 3.2, 4.5, 1.5],\n",
       "       [6.9, 3.1, 4.9, 1.5],\n",
       "       [5.5, 2.3, 4. , 1.3],\n",
       "       [6.5, 2.8, 4.6, 1.5],\n",
       "       [5.7, 2.8, 4.5, 1.3],\n",
       "       [6.3, 3.3, 4.7, 1.6],\n",
       "       [4.9, 2.4, 3.3, 1. ],\n",
       "       [6.6, 2.9, 4.6, 1.3],\n",
       "       [5.2, 2.7, 3.9, 1.4],\n",
       "       [5. , 2. , 3.5, 1. ],\n",
       "       [5.9, 3. , 4.2, 1.5],\n",
       "       [6. , 2.2, 4. , 1. ],\n",
       "       [6.1, 2.9, 4.7, 1.4],\n",
       "       [5.6, 2.9, 3.6, 1.3],\n",
       "       [6.7, 3.1, 4.4, 1.4],\n",
       "       [5.6, 3. , 4.5, 1.5],\n",
       "       [5.8, 2.7, 4.1, 1. ],\n",
       "       [6.2, 2.2, 4.5, 1.5],\n",
       "       [5.6, 2.5, 3.9, 1.1],\n",
       "       [5.9, 3.2, 4.8, 1.8],\n",
       "       [6.1, 2.8, 4. , 1.3],\n",
       "       [6.3, 2.5, 4.9, 1.5],\n",
       "       [6.1, 2.8, 4.7, 1.2],\n",
       "       [6.4, 2.9, 4.3, 1.3],\n",
       "       [6.6, 3. , 4.4, 1.4],\n",
       "       [6.8, 2.8, 4.8, 1.4],\n",
       "       [6.7, 3. , 5. , 1.7],\n",
       "       [6. , 2.9, 4.5, 1.5],\n",
       "       [5.7, 2.6, 3.5, 1. ],\n",
       "       [5.5, 2.4, 3.8, 1.1],\n",
       "       [5.5, 2.4, 3.7, 1. ],\n",
       "       [5.8, 2.7, 3.9, 1.2],\n",
       "       [6. , 2.7, 5.1, 1.6],\n",
       "       [5.4, 3. , 4.5, 1.5],\n",
       "       [6. , 3.4, 4.5, 1.6],\n",
       "       [6.7, 3.1, 4.7, 1.5],\n",
       "       [6.3, 2.3, 4.4, 1.3],\n",
       "       [5.6, 3. , 4.1, 1.3],\n",
       "       [5.5, 2.5, 4. , 1.3],\n",
       "       [5.5, 2.6, 4.4, 1.2],\n",
       "       [6.1, 3. , 4.6, 1.4],\n",
       "       [5.8, 2.6, 4. , 1.2],\n",
       "       [5. , 2.3, 3.3, 1. ],\n",
       "       [5.6, 2.7, 4.2, 1.3],\n",
       "       [5.7, 3. , 4.2, 1.2],\n",
       "       [5.7, 2.9, 4.2, 1.3],\n",
       "       [6.2, 2.9, 4.3, 1.3],\n",
       "       [5.1, 2.5, 3. , 1.1],\n",
       "       [5.7, 2.8, 4.1, 1.3],\n",
       "       [6.3, 3.3, 6. , 2.5],\n",
       "       [5.8, 2.7, 5.1, 1.9],\n",
       "       [7.1, 3. , 5.9, 2.1],\n",
       "       [6.3, 2.9, 5.6, 1.8],\n",
       "       [6.5, 3. , 5.8, 2.2],\n",
       "       [7.6, 3. , 6.6, 2.1],\n",
       "       [4.9, 2.5, 4.5, 1.7],\n",
       "       [7.3, 2.9, 6.3, 1.8],\n",
       "       [6.7, 2.5, 5.8, 1.8],\n",
       "       [7.2, 3.6, 6.1, 2.5],\n",
       "       [6.5, 3.2, 5.1, 2. ],\n",
       "       [6.4, 2.7, 5.3, 1.9],\n",
       "       [6.8, 3. , 5.5, 2.1],\n",
       "       [5.7, 2.5, 5. , 2. ],\n",
       "       [5.8, 2.8, 5.1, 2.4],\n",
       "       [6.4, 3.2, 5.3, 2.3],\n",
       "       [6.5, 3. , 5.5, 1.8],\n",
       "       [7.7, 3.8, 6.7, 2.2],\n",
       "       [7.7, 2.6, 6.9, 2.3],\n",
       "       [6. , 2.2, 5. , 1.5],\n",
       "       [6.9, 3.2, 5.7, 2.3],\n",
       "       [5.6, 2.8, 4.9, 2. ],\n",
       "       [7.7, 2.8, 6.7, 2. ],\n",
       "       [6.3, 2.7, 4.9, 1.8],\n",
       "       [6.7, 3.3, 5.7, 2.1],\n",
       "       [7.2, 3.2, 6. , 1.8],\n",
       "       [6.2, 2.8, 4.8, 1.8],\n",
       "       [6.1, 3. , 4.9, 1.8],\n",
       "       [6.4, 2.8, 5.6, 2.1],\n",
       "       [7.2, 3. , 5.8, 1.6],\n",
       "       [7.4, 2.8, 6.1, 1.9],\n",
       "       [7.9, 3.8, 6.4, 2. ],\n",
       "       [6.4, 2.8, 5.6, 2.2],\n",
       "       [6.3, 2.8, 5.1, 1.5],\n",
       "       [6.1, 2.6, 5.6, 1.4],\n",
       "       [7.7, 3. , 6.1, 2.3],\n",
       "       [6.3, 3.4, 5.6, 2.4],\n",
       "       [6.4, 3.1, 5.5, 1.8],\n",
       "       [6. , 3. , 4.8, 1.8],\n",
       "       [6.9, 3.1, 5.4, 2.1],\n",
       "       [6.7, 3.1, 5.6, 2.4],\n",
       "       [6.9, 3.1, 5.1, 2.3],\n",
       "       [5.8, 2.7, 5.1, 1.9],\n",
       "       [6.8, 3.2, 5.9, 2.3],\n",
       "       [6.7, 3.3, 5.7, 2.5],\n",
       "       [6.7, 3. , 5.2, 2.3],\n",
       "       [6.3, 2.5, 5. , 1.9],\n",
       "       [6.5, 3. , 5.2, 2. ],\n",
       "       [6.2, 3.4, 5.4, 2.3],\n",
       "       [5.9, 3. , 5.1, 1.8]])"
      ]
     },
     "execution_count": 96,
     "metadata": {},
     "output_type": "execute_result"
    }
   ],
   "source": [
    "x"
   ]
  },
  {
   "cell_type": "code",
   "execution_count": 97,
   "id": "e7e36a4a",
   "metadata": {},
   "outputs": [
    {
     "data": {
      "text/plain": [
       "array([0, 0, 0, 0, 0, 0, 0, 0, 0, 0, 0, 0, 0, 0, 0, 0, 0, 0, 0, 0, 0, 0,\n",
       "       0, 0, 0, 0, 0, 0, 0, 0, 0, 0, 0, 0, 0, 0, 0, 0, 0, 0, 0, 0, 0, 0,\n",
       "       0, 0, 0, 0, 0, 0, 1, 1, 1, 1, 1, 1, 1, 1, 1, 1, 1, 1, 1, 1, 1, 1,\n",
       "       1, 1, 1, 1, 1, 1, 1, 1, 1, 1, 1, 1, 1, 1, 1, 1, 1, 1, 1, 1, 1, 1,\n",
       "       1, 1, 1, 1, 1, 1, 1, 1, 1, 1, 1, 1, 2, 2, 2, 2, 2, 2, 2, 2, 2, 2,\n",
       "       2, 2, 2, 2, 2, 2, 2, 2, 2, 2, 2, 2, 2, 2, 2, 2, 2, 2, 2, 2, 2, 2,\n",
       "       2, 2, 2, 2, 2, 2, 2, 2, 2, 2, 2, 2, 2, 2, 2, 2, 2, 2])"
      ]
     },
     "execution_count": 97,
     "metadata": {},
     "output_type": "execute_result"
    }
   ],
   "source": [
    "y"
   ]
  },
  {
   "cell_type": "code",
   "execution_count": 98,
   "id": "eb15fd8f",
   "metadata": {},
   "outputs": [],
   "source": [
    "x_train, x_test, y_train, y_test = train_test_split(x, y, test_size=0.3, stratify=y)\n",
    "\n",
    "y_train = to_categorical(y_train, num_classes).astype(np.float32)\n",
    "y_test = to_categorical(y_test, num_classes).astype(np.float32)"
   ]
  },
  {
   "cell_type": "code",
   "execution_count": 99,
   "id": "83ed2bc9",
   "metadata": {},
   "outputs": [
    {
     "data": {
      "text/plain": [
       "(105, 4)"
      ]
     },
     "execution_count": 99,
     "metadata": {},
     "output_type": "execute_result"
    }
   ],
   "source": [
    "x_train.shape"
   ]
  },
  {
   "cell_type": "code",
   "execution_count": 100,
   "id": "b20301ee",
   "metadata": {},
   "outputs": [
    {
     "data": {
      "text/plain": [
       "(105, 3)"
      ]
     },
     "execution_count": 100,
     "metadata": {},
     "output_type": "execute_result"
    }
   ],
   "source": [
    "y_train.shape"
   ]
  },
  {
   "cell_type": "code",
   "execution_count": 101,
   "id": "c94c47d7",
   "metadata": {},
   "outputs": [
    {
     "data": {
      "text/plain": [
       "(45, 4)"
      ]
     },
     "execution_count": 101,
     "metadata": {},
     "output_type": "execute_result"
    }
   ],
   "source": [
    "x_test.shape"
   ]
  },
  {
   "cell_type": "code",
   "execution_count": 102,
   "id": "21b2783e",
   "metadata": {},
   "outputs": [
    {
     "data": {
      "text/plain": [
       "(45, 3)"
      ]
     },
     "execution_count": 102,
     "metadata": {},
     "output_type": "execute_result"
    }
   ],
   "source": [
    "y_test.shape"
   ]
  },
  {
   "cell_type": "code",
   "execution_count": 103,
   "id": "8c9d8177",
   "metadata": {},
   "outputs": [
    {
     "name": "stdout",
     "output_type": "stream",
     "text": [
      "Input length/nodes:  4\n",
      "Number of hidden layers:  512\n",
      "Number output units/classes:  3\n",
      "Bias shape: (512,)\n",
      "W shape: (4, 512)\n",
      "Beta shape: (512, 3)\n"
     ]
    }
   ],
   "source": [
    "# create instance of our model\n",
    "model = ELM(\n",
    "    input_length,\n",
    "    num_hidden_layers,\n",
    "    num_classes\n",
    ")"
   ]
  },
  {
   "cell_type": "code",
   "execution_count": 104,
   "id": "3fcf8684",
   "metadata": {},
   "outputs": [
    {
     "name": "stdout",
     "output_type": "stream",
     "text": [
      "Training time (seconds): 0.011989116668701172\n",
      "train loss: 0.000000\n",
      "train acc: 1.000000\n"
     ]
    }
   ],
   "source": [
    "# Train\n",
    "model.fit(x_train, y_train, display_time=True)\n",
    "train_loss, train_acc = model.evaluate(x_train, y_train)\n",
    "print('train loss: %f' % train_loss)\n",
    "print('train acc: %f' % train_acc)\n",
    "\n",
    "# likely having issues with overfitting here since it's 0% loss and 100% accuracy..."
   ]
  },
  {
   "cell_type": "code",
   "execution_count": 105,
   "id": "e588ee5e",
   "metadata": {},
   "outputs": [],
   "source": [
    "# Predictions\n",
    "predictions = model(x_test)"
   ]
  },
  {
   "cell_type": "code",
   "execution_count": 106,
   "id": "dd2602d4",
   "metadata": {},
   "outputs": [
    {
     "name": "stdout",
     "output_type": "stream",
     "text": [
      "[0. 0. 1.]\n",
      "Actual 2\n",
      "Predicted 2\n",
      "With prob: 1.32\n",
      "------------------\n",
      "[0. 0. 1.]\n",
      "Actual 2\n",
      "Predicted 2\n",
      "With prob: 1.0\n",
      "------------------\n",
      "[1. 0. 0.]\n",
      "Actual 0\n",
      "Predicted 0\n",
      "With prob: 1.0\n",
      "------------------\n",
      "[1. 0. 0.]\n",
      "Actual 0\n",
      "Predicted 1\n",
      "With prob: 1.76\n",
      "------------------\n",
      "[0. 1. 0.]\n",
      "Actual 1\n",
      "Predicted 2\n",
      "With prob: 0.84\n",
      "------------------\n",
      "[1. 0. 0.]\n",
      "Actual 0\n",
      "Predicted 0\n",
      "With prob: 0.98\n",
      "------------------\n",
      "[0. 1. 0.]\n",
      "Actual 1\n",
      "Predicted 1\n",
      "With prob: 1.14\n",
      "------------------\n",
      "[0. 0. 1.]\n",
      "Actual 2\n",
      "Predicted 2\n",
      "With prob: 1.47\n",
      "------------------\n",
      "[1. 0. 0.]\n",
      "Actual 0\n",
      "Predicted 0\n",
      "With prob: 0.98\n",
      "------------------\n",
      "[0. 1. 0.]\n",
      "Actual 1\n",
      "Predicted 1\n",
      "With prob: 1.55\n",
      "------------------\n",
      "[1. 0. 0.]\n",
      "Actual 0\n",
      "Predicted 0\n",
      "With prob: 1.01\n",
      "------------------\n",
      "[0. 0. 1.]\n",
      "Actual 2\n",
      "Predicted 2\n",
      "With prob: 0.94\n",
      "------------------\n",
      "[1. 0. 0.]\n",
      "Actual 0\n",
      "Predicted 0\n",
      "With prob: 1.0\n",
      "------------------\n",
      "[0. 0. 1.]\n",
      "Actual 2\n",
      "Predicted 2\n",
      "With prob: 1.18\n",
      "------------------\n",
      "[0. 1. 0.]\n",
      "Actual 1\n",
      "Predicted 1\n",
      "With prob: 1.26\n",
      "------------------\n",
      "[0. 0. 1.]\n",
      "Actual 2\n",
      "Predicted 1\n",
      "With prob: 9.39\n",
      "------------------\n",
      "[0. 1. 0.]\n",
      "Actual 1\n",
      "Predicted 2\n",
      "With prob: 0.63\n",
      "------------------\n",
      "[0. 1. 0.]\n",
      "Actual 1\n",
      "Predicted 1\n",
      "With prob: 1.07\n",
      "------------------\n",
      "[0. 1. 0.]\n",
      "Actual 1\n",
      "Predicted 2\n",
      "With prob: 1.04\n",
      "------------------\n",
      "[1. 0. 0.]\n",
      "Actual 0\n",
      "Predicted 0\n",
      "With prob: 1.0\n",
      "------------------\n",
      "[0. 1. 0.]\n",
      "Actual 1\n",
      "Predicted 2\n",
      "With prob: 0.51\n",
      "------------------\n",
      "[0. 0. 1.]\n",
      "Actual 2\n",
      "Predicted 1\n",
      "With prob: 2.68\n",
      "------------------\n",
      "[1. 0. 0.]\n",
      "Actual 0\n",
      "Predicted 0\n",
      "With prob: 1.0\n",
      "------------------\n",
      "[0. 1. 0.]\n",
      "Actual 1\n",
      "Predicted 1\n",
      "With prob: 0.8\n",
      "------------------\n",
      "[0. 0. 1.]\n",
      "Actual 2\n",
      "Predicted 2\n",
      "With prob: 1.12\n",
      "------------------\n",
      "[0. 0. 1.]\n",
      "Actual 2\n",
      "Predicted 2\n",
      "With prob: 1.02\n",
      "------------------\n",
      "[0. 0. 1.]\n",
      "Actual 2\n",
      "Predicted 1\n",
      "With prob: 0.57\n",
      "------------------\n",
      "[0. 0. 1.]\n",
      "Actual 2\n",
      "Predicted 2\n",
      "With prob: 0.75\n",
      "------------------\n",
      "[0. 1. 0.]\n",
      "Actual 1\n",
      "Predicted 1\n",
      "With prob: 0.8\n",
      "------------------\n",
      "[0. 0. 1.]\n",
      "Actual 2\n",
      "Predicted 1\n",
      "With prob: 1.65\n",
      "------------------\n",
      "[0. 1. 0.]\n",
      "Actual 1\n",
      "Predicted 1\n",
      "With prob: 0.95\n",
      "------------------\n",
      "[1. 0. 0.]\n",
      "Actual 0\n",
      "Predicted 0\n",
      "With prob: 0.98\n",
      "------------------\n",
      "[1. 0. 0.]\n",
      "Actual 0\n",
      "Predicted 0\n",
      "With prob: 1.0\n",
      "------------------\n",
      "[0. 1. 0.]\n",
      "Actual 1\n",
      "Predicted 1\n",
      "With prob: 0.92\n",
      "------------------\n",
      "[0. 1. 0.]\n",
      "Actual 1\n",
      "Predicted 1\n",
      "With prob: 0.78\n",
      "------------------\n",
      "[0. 0. 1.]\n",
      "Actual 2\n",
      "Predicted 2\n",
      "With prob: 4.7\n",
      "------------------\n",
      "[0. 1. 0.]\n",
      "Actual 1\n",
      "Predicted 1\n",
      "With prob: 4.19\n",
      "------------------\n",
      "[1. 0. 0.]\n",
      "Actual 0\n",
      "Predicted 0\n",
      "With prob: 1.03\n",
      "------------------\n",
      "[1. 0. 0.]\n",
      "Actual 0\n",
      "Predicted 0\n",
      "With prob: 1.02\n",
      "------------------\n",
      "[0. 1. 0.]\n",
      "Actual 1\n",
      "Predicted 1\n",
      "With prob: 1.53\n",
      "------------------\n",
      "[1. 0. 0.]\n",
      "Actual 0\n",
      "Predicted 0\n",
      "With prob: 1.0\n",
      "------------------\n",
      "[0. 0. 1.]\n",
      "Actual 2\n",
      "Predicted 1\n",
      "With prob: 1.29\n",
      "------------------\n",
      "[1. 0. 0.]\n",
      "Actual 0\n",
      "Predicted 0\n",
      "With prob: 1.0\n",
      "------------------\n",
      "[1. 0. 0.]\n",
      "Actual 0\n",
      "Predicted 0\n",
      "With prob: 1.01\n",
      "------------------\n",
      "[0. 0. 1.]\n",
      "Actual 2\n",
      "Predicted 2\n",
      "With prob: 0.66\n",
      "------------------\n",
      "Total testing accuracy: 0.78\n"
     ]
    }
   ],
   "source": [
    "correct_count = 0\n",
    "for idx, val in enumerate(x_test):\n",
    "    print(y_test[idx])\n",
    "    print(f'Actual {np.argmax(y_test[idx])}')\n",
    "    print(f'Predicted {np.argmax(predictions[idx])}')\n",
    "    print(f'With prob: {str(round(np.max(predictions[idx]), 2))}')\n",
    "    if (np.argmax(y_test[idx]) == np.argmax(predictions[idx])):\n",
    "        correct_count = correct_count + 1\n",
    "    print(\"------------------\")\n",
    "\n",
    "print(f'Total testing accuracy: {round(correct_count / len(x_test), 2)}')"
   ]
  },
  {
   "cell_type": "code",
   "execution_count": null,
   "id": "9737c08b",
   "metadata": {},
   "outputs": [],
   "source": []
  }
 ],
 "metadata": {
  "kernelspec": {
   "display_name": "Python 3 (ipykernel)",
   "language": "python",
   "name": "python3"
  },
  "language_info": {
   "codemirror_mode": {
    "name": "ipython",
    "version": 3
   },
   "file_extension": ".py",
   "mimetype": "text/x-python",
   "name": "python",
   "nbconvert_exporter": "python",
   "pygments_lexer": "ipython3",
   "version": "3.10.6"
  }
 },
 "nbformat": 4,
 "nbformat_minor": 5
}
